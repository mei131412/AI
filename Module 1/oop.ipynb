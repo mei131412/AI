{
 "cells": [
  {
   "cell_type": "markdown",
   "id": "a42590e6",
   "metadata": {},
   "source": [
    "## 1."
   ]
  },
  {
   "cell_type": "code",
   "execution_count": 1,
   "id": "d9ddf1db",
   "metadata": {},
   "outputs": [],
   "source": [
    "import torch\n",
    "import torch.nn as nn"
   ]
  },
  {
   "cell_type": "code",
   "execution_count": 2,
   "id": "702345de",
   "metadata": {},
   "outputs": [
    {
     "data": {
      "text/plain": [
       "tensor([1., 2., 3.])"
      ]
     },
     "execution_count": 2,
     "metadata": {},
     "output_type": "execute_result"
    }
   ],
   "source": [
    "data = torch.Tensor([1,2,3])\n",
    "data"
   ]
  },
  {
   "cell_type": "code",
   "execution_count": 3,
   "id": "777f76cc",
   "metadata": {},
   "outputs": [
    {
     "name": "stdout",
     "output_type": "stream",
     "text": [
      "tensor([0.0900, 0.2447, 0.6652])\n"
     ]
    }
   ],
   "source": [
    "softmax_function = nn.Softmax(dim=0)\n",
    "result = softmax_function(data)\n",
    "print(result)"
   ]
  },
  {
   "cell_type": "code",
   "execution_count": 10,
   "id": "7cc49d7c",
   "metadata": {},
   "outputs": [
    {
     "name": "stdout",
     "output_type": "stream",
     "text": [
      "tensor([0.0900, 0.2447, 0.6652])\n"
     ]
    }
   ],
   "source": [
    "class MySoftmax(nn.Module):\n",
    "    def __init__(self):\n",
    "        super().__init__()\n",
    "\n",
    "    def forward(self, x):\n",
    "        x_exp = torch.exp(x)\n",
    "        total = x_exp.sum(0, keepdims=True)\n",
    "        return x_exp / total\n",
    "    \n",
    "my_softmax = MySoftmax()\n",
    "result = my_softmax(data)\n",
    "print(result)\n",
    "\n"
   ]
  },
  {
   "cell_type": "code",
   "execution_count": 11,
   "id": "9fb9f7b4",
   "metadata": {},
   "outputs": [
    {
     "data": {
      "text/plain": [
       "tensor([1.0000e+00, 2.0000e+00, 3.0000e+08])"
      ]
     },
     "execution_count": 11,
     "metadata": {},
     "output_type": "execute_result"
    }
   ],
   "source": [
    "data = torch.Tensor([1,2,300000000])\n",
    "data"
   ]
  },
  {
   "cell_type": "code",
   "execution_count": 12,
   "id": "bbdb1622",
   "metadata": {},
   "outputs": [
    {
     "name": "stdout",
     "output_type": "stream",
     "text": [
      "tensor([0., 0., nan])\n"
     ]
    }
   ],
   "source": [
    "my_softmax = MySoftmax()\n",
    "result = my_softmax(data)\n",
    "print(result)"
   ]
  },
  {
   "cell_type": "code",
   "execution_count": 17,
   "id": "36965a6d",
   "metadata": {},
   "outputs": [],
   "source": [
    "data = torch.Tensor([1,2,30000])"
   ]
  },
  {
   "cell_type": "code",
   "execution_count": 18,
   "id": "95aeb786",
   "metadata": {},
   "outputs": [
    {
     "name": "stdout",
     "output_type": "stream",
     "text": [
      "tensor([0., 0., 1.])\n"
     ]
    }
   ],
   "source": [
    "class StableSoftmax(nn.Module):\n",
    "    def __init__(self):\n",
    "        super().__init__()\n",
    "\n",
    "    def forward(self, x):\n",
    "        c = torch.max(x, dim = 0)\n",
    "        x_exp = torch.exp(x-c.values)\n",
    "        total = x_exp.sum(0, keepdims=True)\n",
    "        return x_exp / total\n",
    "    \n",
    "my_softmax = StableSoftmax()\n",
    "result = my_softmax(data)\n",
    "print(result)\n",
    "\n"
   ]
  },
  {
   "cell_type": "markdown",
   "id": "b652a6d7",
   "metadata": {},
   "source": [
    "## 2."
   ]
  },
  {
   "cell_type": "code",
   "execution_count": 21,
   "id": "e85f0680",
   "metadata": {},
   "outputs": [],
   "source": [
    "class Person:\n",
    "    def __init__(self, name, yob):\n",
    "        self.name = name\n",
    "        self.yob = yob\n",
    "\n",
    "class Student(Person):\n",
    "    def __init__(self, name, yob, grade):\n",
    "        super().__init__(name, yob)\n",
    "        self.grade = grade\n",
    "\n",
    "    def describe(self):\n",
    "        print(f'Student - Name: {self.name} - YoB: {self.yob} - Grade: {self.grade}')\n",
    "\n",
    "class Teacher(Person):\n",
    "    def __init__(self, name, yob, subject):\n",
    "        super().__init__(name, yob)\n",
    "        self.subject = subject\n",
    "\n",
    "    def describe(self):\n",
    "        print(f'Teacher - Name: {self.name} - YoB: {self.yob} - Subject: {self.subject}')\n",
    "\n",
    "class Doctor(Person):\n",
    "    def __init__(self, name, yob, specialist):\n",
    "        super().__init__(name, yob)\n",
    "        self.specialist = specialist\n",
    "\n",
    "    def describe(self):\n",
    "        print(f'Doctor - Name: {self.name} - YoB: {self.yob} - Specialist: {self.specialist}')"
   ]
  },
  {
   "cell_type": "code",
   "execution_count": 24,
   "id": "c2cb848b",
   "metadata": {},
   "outputs": [
    {
     "name": "stdout",
     "output_type": "stream",
     "text": [
      "Student - Name: studentA - YoB: 2010 - Grade: 7\n",
      "Teacher - Name: teacherA - YoB: 1969 - Subject: Math\n",
      "Doctor - Name: doctorA - YoB: 1980 - Specialist: Surgery\n"
     ]
    }
   ],
   "source": [
    "student1 = Student( name =\"studentA\", yob =2010 , grade =\"7\")\n",
    "student1 . describe ()\n",
    "\n",
    "teacher1 = Teacher( name =\"teacherA\", yob =1969 , subject =\"Math\")\n",
    "teacher1 . describe ()\n",
    "\n",
    "doctor1 = Doctor( name =\"doctorA\", yob =1980 , specialist =\"Surgery\")\n",
    "doctor1 . describe ()"
   ]
  },
  {
   "cell_type": "code",
   "execution_count": 40,
   "id": "351666f5",
   "metadata": {},
   "outputs": [
    {
     "name": "stdout",
     "output_type": "stream",
     "text": [
      "Ward: Ward1\n",
      "Student - Name: studentA - YoB: 2010 - Grade: 7\n",
      "Teacher - Name: teacherA - YoB: 1969 - Subject: Math\n",
      "Teacher - Name: teacherB  - YoB: 1995 - Subject:  History \n",
      "Doctor - Name: doctorA - YoB: 1980 - Specialist: Surgery\n",
      "Doctor - Name: doctorB  - YoB: 1975 - Specialist:  Cardiologists \n",
      "\n",
      "After sorting Age of Ward1 people \n",
      "Ward: Ward1\n",
      "Teacher - Name: teacherA - YoB: 1969 - Subject: Math\n",
      "Doctor - Name: doctorB  - YoB: 1975 - Specialist:  Cardiologists \n",
      "Doctor - Name: doctorA - YoB: 1980 - Specialist: Surgery\n",
      "Teacher - Name: teacherB  - YoB: 1995 - Subject:  History \n",
      "Student - Name: studentA - YoB: 2010 - Grade: 7\n",
      "1982.0\n"
     ]
    }
   ],
   "source": [
    "class Ward:\n",
    "    def __init__(self, name):\n",
    "        self.name = name\n",
    "        self.person = []\n",
    "\n",
    "    def add_person(self, person):\n",
    "        self.person.append(person)\n",
    "\n",
    "    def describe(self):\n",
    "        print(f'Ward: {self.name}')\n",
    "        for person in self.person:\n",
    "            person.describe()\n",
    "\n",
    "    def count_doctor(self):\n",
    "        count = 0\n",
    "        for person in self.person:\n",
    "            if isinstance(person,Doctor):\n",
    "                count += 1\n",
    "        return count\n",
    "    \n",
    "    def sort_age(self):\n",
    "        self.person.sort(key = lambda x: x.yob)\n",
    "\n",
    "    def compute_average(self):\n",
    "        list_teacher_yob = []\n",
    "        for person in self.person:\n",
    "            if isinstance(person, Teacher):\n",
    "                list_teacher_yob.append(person.yob)\n",
    "        return sum(list_teacher_yob) / len(list_teacher_yob)\n",
    "    \n",
    "teacher2 = Teacher ( name =\"teacherB \", yob =1995 , subject =\" History \")\n",
    "doctor2 = Doctor ( name =\"doctorB \", yob =1975 , specialist =\" Cardiologists \")\n",
    "ward1 = Ward ( name =\"Ward1\")\n",
    "ward1 . add_person ( student1 )\n",
    "ward1 . add_person ( teacher1 )\n",
    "ward1 . add_person ( teacher2 )\n",
    "ward1 . add_person ( doctor1 )\n",
    "ward1 . add_person ( doctor2 )\n",
    "ward1 . describe ()\n",
    "\n",
    "\n",
    "print (\"\\nAfter sorting Age of Ward1 people \")\n",
    "ward1 . sort_age ()\n",
    "ward1 . describe ()\n",
    "\n",
    "print(ward1.compute_average())"
   ]
  },
  {
   "cell_type": "markdown",
   "id": "4fdd3702",
   "metadata": {},
   "source": [
    "## 3."
   ]
  },
  {
   "cell_type": "code",
   "execution_count": 43,
   "id": "17aa9323",
   "metadata": {},
   "outputs": [
    {
     "name": "stdout",
     "output_type": "stream",
     "text": [
      "False\n",
      "False\n",
      "2\n",
      "2\n",
      "1\n",
      "1\n",
      "True\n"
     ]
    }
   ],
   "source": [
    "class MyStack:\n",
    "    def __init__(self, capacity):\n",
    "        self.capacity = capacity\n",
    "        self.items = []\n",
    "    \n",
    "    def is_empty(self):\n",
    "        return len(self.items) == 0\n",
    "    \n",
    "    def is_full(self):\n",
    "        return len(self.items) == self.capacity\n",
    "    \n",
    "    def pop(self):\n",
    "        if self.is_empty():\n",
    "            print('Underflow')\n",
    "            return None\n",
    "        else:\n",
    "            return self.items.pop()\n",
    "        \n",
    "    def push(self, item):\n",
    "        if self.is_full():\n",
    "            print('Overflow')\n",
    "        else:\n",
    "            self.items.append(item)\n",
    "\n",
    "    def top(self):\n",
    "        if self.is_empty():\n",
    "            print('Stack is empty')\n",
    "            return None\n",
    "        else:\n",
    "            return self.items[-1]\n",
    "        \n",
    "stack1 = MyStack ( capacity =5)\n",
    "stack1 . push (1)\n",
    "stack1 . push (2)\n",
    "print ( stack1 . is_full () )\n",
    "print ( stack1 . is_full ())\n",
    "print ( stack1 . top () )\n",
    "print ( stack1 . pop () )\n",
    "print ( stack1 . top () )\n",
    "print ( stack1 . pop () )\n",
    "print ( stack1 . is_empty () )\n"
   ]
  },
  {
   "cell_type": "markdown",
   "id": "e5f2ba1b",
   "metadata": {},
   "source": [
    "## 4."
   ]
  },
  {
   "cell_type": "code",
   "execution_count": 47,
   "id": "69b27b5f",
   "metadata": {},
   "outputs": [
    {
     "name": "stdout",
     "output_type": "stream",
     "text": [
      "False\n",
      "1\n",
      "1\n",
      "2\n",
      "2\n",
      "True\n"
     ]
    }
   ],
   "source": [
    "class MyQueue:\n",
    "    def __init__(self, capacity):\n",
    "        self.capacity = capacity\n",
    "        self.items = []\n",
    "  \n",
    "    def is_empty(self):\n",
    "        return len(self.items) == 0\n",
    "    \n",
    "    def is_full(self):\n",
    "        return len(self.items) == self.capacity\n",
    "    \n",
    "    def dequeue(self):\n",
    "        if self.is_empty():\n",
    "            print('Underflow')\n",
    "            return None\n",
    "        else:\n",
    "            first = self.items[0]\n",
    "            self.items.pop(0)\n",
    "            return first\n",
    "        \n",
    "    def enqueue(self, item):\n",
    "        if self.is_full():\n",
    "            print('Overflow')\n",
    "        else:\n",
    "            self.items.append(item)\n",
    "\n",
    "    def front(self):\n",
    "        if self.is_empty():\n",
    "            print('Stack is empty')\n",
    "            return None\n",
    "        else:\n",
    "            return self.items[0]\n",
    "    \n",
    "queue1 = MyQueue ( capacity =5)\n",
    "queue1 . enqueue (1)\n",
    "queue1 . enqueue (2)\n",
    "print ( queue1 . is_full () )\n",
    "print ( queue1 . front () )\n",
    "print ( queue1 . dequeue () )\n",
    "print ( queue1 . front () )\n",
    "print ( queue1 . dequeue () )\n",
    "print ( queue1 . is_empty () )"
   ]
  },
  {
   "cell_type": "markdown",
   "id": "51fc1337",
   "metadata": {},
   "source": [
    "## IOU"
   ]
  },
  {
   "cell_type": "code",
   "execution_count": 1,
   "id": "66085a8d",
   "metadata": {},
   "outputs": [],
   "source": [
    "def compute(boxA, boxB):\n",
    "    xA = max(boxA[0], boxB[0])\n",
    "    yA = max(boxA[1], boxB[1])\n",
    "    xB = min(boxA[2], boxB[2])\n",
    "    yB = min(boxA[3], boxB[3])\n",
    "\n",
    "    interArea = max(0, xB - xA + 1) * max(0, yB - yA + 1)\n",
    "\n",
    "    boxAArea = (boxA[2] - boxA[0] + 1) * (boxA[3] - boxA[1] + 1)\n",
    "    boxBArea = (boxB[2] - boxB[0] + 1) * (boxB[3] - boxB[1] + 1)\n",
    "\n",
    "    return interArea / float(boxAArea + boxBArea - interArea)"
   ]
  },
  {
   "cell_type": "code",
   "execution_count": 2,
   "id": "3b99cc57",
   "metadata": {},
   "outputs": [],
   "source": [
    "boxA = (0,0,5,5)\n",
    "boxB = (2.5,2.5,7.5,7.5)\n",
    "error = compute(boxA, boxB)"
   ]
  },
  {
   "cell_type": "code",
   "execution_count": 3,
   "id": "b9a01016",
   "metadata": {},
   "outputs": [
    {
     "name": "stdout",
     "output_type": "stream",
     "text": [
      "0.20502092050209206\n"
     ]
    }
   ],
   "source": [
    "print(error)"
   ]
  },
  {
   "cell_type": "markdown",
   "id": "e4808543",
   "metadata": {},
   "source": [
    "## Non Maximum Suppression"
   ]
  },
  {
   "cell_type": "code",
   "execution_count": 5,
   "id": "ce3fd346",
   "metadata": {},
   "outputs": [],
   "source": [
    "def non_max_suppression(boxes, scores, threshold):\n",
    "    sorted_indices = sorted(range(len(scores)), key=lambda k: scores[k], reverse=True)\n",
    "    kept_indices = []\n",
    "\n",
    "    while sorted_indices:\n",
    "        i = sorted_indices.pop(0)\n",
    "        kept_indices.append(i)\n",
    "\n",
    "        filtered_indices = []\n",
    "        for j in sorted_indices:\n",
    "            iou = compute(boxes[i], boxes[j])\n",
    "            if iou <= threshold:\n",
    "                filtered_indices.append(j)\n",
    "                \n",
    "            sorted_indices = filtered_indices\n",
    "\n",
    "    return kept_indices"
   ]
  },
  {
   "cell_type": "code",
   "execution_count": 6,
   "id": "98ae373d",
   "metadata": {},
   "outputs": [],
   "source": [
    "import numpy as np\n",
    "\n",
    "boxes = [\n",
    "    [12,84,140,212],\n",
    "    [24,84,152,212],\n",
    "    [36,84,164,212],\n",
    "    [12,96,140,224],\n",
    "    [24,96,152,224],\n",
    "    [24,108,152,236]\n",
    "]\n",
    "scores = [0.3, 0.4, 0.5, 0.6, 0.7]\n",
    "iou_threshold = 0.3\n",
    "kept_indices = non_max_suppression(boxes, scores, iou_threshold)"
   ]
  },
  {
   "cell_type": "code",
   "execution_count": 7,
   "id": "be01ddc9",
   "metadata": {},
   "outputs": [
    {
     "name": "stdout",
     "output_type": "stream",
     "text": [
      "Kept boxes after Non-Maximum Suppression:\n",
      "Box: [24, 96, 152, 224], Score: 0.7\n"
     ]
    }
   ],
   "source": [
    "print(\"Kept boxes after Non-Maximum Suppression:\")\n",
    "for index in kept_indices: \n",
    "    print(f'Box: {boxes[index]}, Score: {scores[index]}') "
   ]
  }
 ],
 "metadata": {
  "kernelspec": {
   "display_name": "Python 3",
   "language": "python",
   "name": "python3"
  },
  "language_info": {
   "codemirror_mode": {
    "name": "ipython",
    "version": 3
   },
   "file_extension": ".py",
   "mimetype": "text/x-python",
   "name": "python",
   "nbconvert_exporter": "python",
   "pygments_lexer": "ipython3",
   "version": "3.10.9"
  }
 },
 "nbformat": 4,
 "nbformat_minor": 5
}
